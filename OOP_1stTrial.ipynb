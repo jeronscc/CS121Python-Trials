{
 "cells": [
  {
   "cell_type": "markdown",
   "id": "25c6c6ba",
   "metadata": {},
   "source": [
    "# Object Oriented Programming (Python)"
   ]
  },
  {
   "cell_type": "markdown",
   "id": "57652375",
   "metadata": {},
   "source": [
    "## MITSUBISHI LANCER EVOLUTION X"
   ]
  },
  {
   "cell_type": "markdown",
   "id": "650a9a79",
   "metadata": {},
   "source": [
    "### Creating a Class"
   ]
  },
  {
   "cell_type": "code",
   "execution_count": 1,
   "id": "ff1271ba",
   "metadata": {},
   "outputs": [],
   "source": [
    "class Lancer:\n",
    "    pass"
   ]
  },
  {
   "cell_type": "markdown",
   "id": "47aa30e2",
   "metadata": {},
   "source": [
    "### Attributes and Methods"
   ]
  },
  {
   "cell_type": "code",
   "execution_count": 35,
   "id": "43546df0",
   "metadata": {
    "scrolled": true
   },
   "outputs": [
    {
     "name": "stdout",
     "output_type": "stream",
     "text": [
      "Mitsubishi\n",
      "Honda\n"
     ]
    }
   ],
   "source": [
    "class Lancer:\n",
    "    \n",
    "    def brand (self):\n",
    "        print(\"Mitsubishi\")\n",
    "    \n",
    "    def change_brand (self, brand):\n",
    "        self.brand = brand\n",
    "    \n",
    "    def get_brand (self):\n",
    "        return self.brand\n",
    "\n",
    "x = Lancer()\n",
    "x.brand()\n",
    "x.change_brand(\"Honda\")\n",
    "print(x.get_brand())"
   ]
  },
  {
   "cell_type": "markdown",
   "id": "6358921d",
   "metadata": {},
   "source": [
    "### Using __init__ Function"
   ]
  },
  {
   "cell_type": "code",
   "execution_count": 49,
   "id": "0efb2812",
   "metadata": {},
   "outputs": [
    {
     "name": "stdout",
     "output_type": "stream",
     "text": [
      "Lancer Evolution X\n",
      "red\n",
      "2007\n",
      "black\n",
      "That black 2007 Mitsubishi Lancer Evolution X is one of the most coveted Japanese vehicles ever.\n"
     ]
    }
   ],
   "source": [
    "class Lancer:\n",
    "    \n",
    "    def __init__ (evo, name, color, year_Model):\n",
    "        evo.name = name\n",
    "        evo.color = color\n",
    "        evo.year_Model = year_Model\n",
    "    \n",
    "    def get_name(evo):\n",
    "        return evo.name\n",
    "    \n",
    "    def get_color(evo):\n",
    "        return evo.color\n",
    "    \n",
    "    def set_color(evo, color):\n",
    "        evo.color = color\n",
    "    \n",
    "    def get_year_Model(evo):\n",
    "        return evo.year_Model\n",
    "    \n",
    "    def show(evo):\n",
    "        print(f\"That {evo.color} {evo.year_Model} Mitsubishi {evo.name} is one of the most coveted Japanese vehicles ever.\")\n",
    "\n",
    "x = Lancer(\"Lancer Evolution X\", \"red\", 2007)\n",
    "print(x.get_name())\n",
    "print(x.get_color())\n",
    "print(x.get_year_Model())\n",
    "x.set_color(\"black\")\n",
    "print(x.get_color())\n",
    "x.show()\n",
    "    "
   ]
  },
  {
   "cell_type": "markdown",
   "id": "cf16a29c",
   "metadata": {},
   "source": [
    "### Inheritance"
   ]
  },
  {
   "cell_type": "code",
   "execution_count": 83,
   "id": "cae5243f",
   "metadata": {},
   "outputs": [
    {
     "name": "stdout",
     "output_type": "stream",
     "text": [
      "Mitsubishi Lancer Evolution X Specification\n",
      "\n",
      "Classification: Sports Sedan\n",
      "Spoiler: Carbon Pedestal\n",
      "Engine: 4B11T 1,998 cc (2.9L) turbocharged\n",
      "Transmission: 6-speed TC-SST\n",
      "Wheelbase: 2,650 mm\n",
      "Length: 4,495 mm\n",
      "Width: 1,810 mm\n",
      "Height: 1,480 mm\n"
     ]
    }
   ],
   "source": [
    "class Car:\n",
    "    \n",
    "    def show_Model (self):\n",
    "        print(\"Mitsubishi Lancer Evolution X Specification\\n\")\n",
    "        print(\"Classification: \" + self.classification)\n",
    "        print(\"Spoiler: \" + self.spoiler)\n",
    "     \n",
    "    def show_Powertrain (self):\n",
    "        print(\"Engine: \" + self.engine)\n",
    "        print(\"Transmission: \" + self.transmission)\n",
    "        \n",
    "    def show_Dimension (self):\n",
    "        print(\"Wheelbase: \" + self.wheelbase)\n",
    "        print(\"Length: \" + self.length)\n",
    "        print(\"Width: \" + self.width)\n",
    "        print(\"Height: \" + self.height)\n",
    "    \n",
    "class Model(Car):\n",
    "    \n",
    "    def __init__ (self, classification, spoiler):\n",
    "        self.classification = classification\n",
    "        self.spoiler = spoiler\n",
    "    \n",
    "class Powertrain(Car):\n",
    "    \n",
    "    def __init__ (self, engine, transmission):\n",
    "        self.engine = engine\n",
    "        self.transmission = transmission\n",
    "        \n",
    "class Dimension(Car):\n",
    "    \n",
    "    def __init__ (self, wheelbase, length, width, height):\n",
    "        self.wheelbase = wheelbase\n",
    "        self.length = length\n",
    "        self.width = width\n",
    "        self.height = height\n",
    "    \n",
    "m = Model(\"Sports Sedan\", \"Carbon Pedestal\")\n",
    "p = Powertrain(\"4B11T 1,998 cc (2.9L) turbocharged\", \"6-speed TC-SST\")\n",
    "d = Dimension(\"2,650 mm\", \"4,495 mm\", \"1,810 mm\", \"1,480 mm\")\n",
    "\n",
    "m.show_Model()\n",
    "p.show_Powertrain()\n",
    "d.show_Dimension()\n",
    "    "
   ]
  },
  {
   "cell_type": "code",
   "execution_count": null,
   "id": "6d897fd7",
   "metadata": {},
   "outputs": [],
   "source": []
  }
 ],
 "metadata": {
  "kernelspec": {
   "display_name": "Python 3 (ipykernel)",
   "language": "python",
   "name": "python3"
  },
  "language_info": {
   "codemirror_mode": {
    "name": "ipython",
    "version": 3
   },
   "file_extension": ".py",
   "mimetype": "text/x-python",
   "name": "python",
   "nbconvert_exporter": "python",
   "pygments_lexer": "ipython3",
   "version": "3.9.13"
  }
 },
 "nbformat": 4,
 "nbformat_minor": 5
}
