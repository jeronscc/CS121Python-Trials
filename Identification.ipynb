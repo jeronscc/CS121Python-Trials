{
 "cells": [
  {
   "cell_type": "markdown",
   "id": "2a379513",
   "metadata": {},
   "source": [
    "# Identification"
   ]
  },
  {
   "cell_type": "code",
   "execution_count": 15,
   "id": "676a76a6",
   "metadata": {},
   "outputs": [
    {
     "name": "stdout",
     "output_type": "stream",
     "text": [
      "Hello, World!\n"
     ]
    }
   ],
   "source": [
    "print(\"Hello, World!\")"
   ]
  },
  {
   "cell_type": "markdown",
   "id": "ac8b2d97",
   "metadata": {},
   "source": [
    "### Name"
   ]
  },
  {
   "cell_type": "code",
   "execution_count": 26,
   "id": "3d429769",
   "metadata": {},
   "outputs": [
    {
     "name": "stdout",
     "output_type": "stream",
     "text": [
      "I am JERON CANSANAY, 19 years of age, currently studying at Batangas State University-Alangilan.\n"
     ]
    }
   ],
   "source": [
    "my_name, my_age, my_school = \"Jeron Cansanay\", 19, \"Batangas State University-Alangilan.\"\n",
    "my_identification = \"I am {}, {} years of age, currently studying at {}\"\n",
    "\n",
    "print(my_identification.format(my_name.upper(), my_age, my_school))"
   ]
  },
  {
   "cell_type": "markdown",
   "id": "bb22c4de",
   "metadata": {},
   "source": [
    "### Course"
   ]
  },
  {
   "cell_type": "code",
   "execution_count": 14,
   "id": "578c48ef",
   "metadata": {},
   "outputs": [
    {
     "name": "stdout",
     "output_type": "stream",
     "text": [
      "At this moment of time, I am on my second year in college having an interesting year so far.\n",
      "I took Bachelor of Science in Information Technology in a hope of having an amazing career.\n"
     ]
    }
   ],
   "source": [
    "my_year = \"second year\"\n",
    "my_course = \"Bachelor of Science in Information Technology\"\n",
    "\n",
    "print(\"At this moment of time, I am on my \" + my_year + \" in college having an interesting year so far.\")\n",
    "print(\"I took \" + my_course + \" in a hope of having an amazing career.\")"
   ]
  },
  {
   "cell_type": "markdown",
   "id": "5e0227db",
   "metadata": {},
   "source": [
    "### Address"
   ]
  },
  {
   "cell_type": "code",
   "execution_count": 38,
   "id": "c97d67b8",
   "metadata": {},
   "outputs": [
    {
     "name": "stdout",
     "output_type": "stream",
     "text": [
      "I'm actually from Calamba, Laguna but currently residing at Batangas.\n",
      "The reason why I moved is because the campus I chose was far from Laguna and also, I want to experience living independently.\n"
     ]
    }
   ],
   "source": [
    "permanent_address = \"Calamba, Laguna\"\n",
    "current_address = \"Batangas\"\n",
    "\n",
    "print(\"I'm actually from \" + permanent_address + \" but currently residing at \" + current_address + \".\")\n",
    "print(\"The reason why I moved is because the campus I chose was far from \" + permanent_address[9:15] +\n",
    "     \" and also, I want to experience living independently.\")"
   ]
  },
  {
   "cell_type": "markdown",
   "id": "c1c21530",
   "metadata": {},
   "source": [
    "### Hobbies"
   ]
  },
  {
   "cell_type": "code",
   "execution_count": 54,
   "id": "adca3bf0",
   "metadata": {},
   "outputs": [
    {
     "name": "stdout",
     "output_type": "stream",
     "text": [
      "My interest was caught by computer games. I am really fascinated when watching clips with relations to computer and basketball stuffs.\n",
      "I also used to play basketball, and a member of a varsity team back in my junior highschool days.\n"
     ]
    }
   ],
   "source": [
    "hobby_1 = \"basketball\"\n",
    "hobby_2 = \"computer games\"\n",
    "hobby_3 = \"watching clips\"\n",
    "my_hobbies = \"My interest was caught by {1}. I am really fascinated when {2} with relations to computer and {0} stuffs.\"\n",
    "\n",
    "print(my_hobbies.format(hobby_1, hobby_2, hobby_3)) \n",
    "print(\"I also used to play \" + hobby_1 + \", and a member of a varsity team back in my junior highschool days.\")"
   ]
  },
  {
   "cell_type": "markdown",
   "id": "90694c17",
   "metadata": {},
   "source": [
    "### Dream Career"
   ]
  },
  {
   "cell_type": "code",
   "execution_count": 64,
   "id": "a0679e83",
   "metadata": {},
   "outputs": [
    {
     "name": "stdout",
     "output_type": "stream",
     "text": [
      "I really want to pursue Law but I think it's not meant for me. It cost a ton of budget and effort to make it up there.\n",
      "Also, I stutter a lot and that would be a huge irony.\n",
      "Realistically, I love to be a Software Engineer someday and currently, I'm taking my steps to achieve that dream goal.\n"
     ]
    }
   ],
   "source": [
    "career_1 = \"Law\"\n",
    "career_2 = \"Software Engineer\"\n",
    "hindrance_1 = \"stutter\"\n",
    "\n",
    "print(\"I really want to pursue \" + career_1 + \" but I think it's not meant for me. It cost a ton of budget and effort to make it up there.\")\n",
    "print(\"Also, I \" + hindrance_1 + \" a lot and that would be a huge irony.\")\n",
    "print(\"Realistically, I love to be a \" + career_2 + \" someday and currently, I'm taking my steps to achieve that dream goal.\")"
   ]
  }
 ],
 "metadata": {
  "kernelspec": {
   "display_name": "Python 3 (ipykernel)",
   "language": "python",
   "name": "python3"
  },
  "language_info": {
   "codemirror_mode": {
    "name": "ipython",
    "version": 3
   },
   "file_extension": ".py",
   "mimetype": "text/x-python",
   "name": "python",
   "nbconvert_exporter": "python",
   "pygments_lexer": "ipython3",
   "version": "3.10.4"
  }
 },
 "nbformat": 4,
 "nbformat_minor": 5
}
