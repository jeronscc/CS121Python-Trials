{
 "cells": [
  {
   "cell_type": "markdown",
   "id": "4e7994dc",
   "metadata": {},
   "source": [
    "# Object Oriented Programming (Python)"
   ]
  },
  {
   "cell_type": "markdown",
   "id": "bed38a5c",
   "metadata": {},
   "source": [
    "## Shooting Game"
   ]
  },
  {
   "cell_type": "markdown",
   "id": "5a8aa7bd",
   "metadata": {},
   "source": [
    "### I created my very own shooting game. The game is simple. Kill all the enemies in the battlefield. Also, better watch out for your stamina and bullet counter!"
   ]
  },
  {
   "cell_type": "code",
   "execution_count": 1,
   "id": "594e88e3",
   "metadata": {},
   "outputs": [
    {
     "name": "stdout",
     "output_type": "stream",
     "text": [
      "Move List\n",
      "shoot: to kill an enemy\n",
      "rest: to regain some stamina\n",
      "reload: to refill the magazine\n",
      "exit: to flee from the battle\n"
     ]
    },
    {
     "name": "stdin",
     "output_type": "stream",
     "text": [
      "Enter your move:  shoot\n"
     ]
    },
    {
     "name": "stdout",
     "output_type": "stream",
     "text": [
      "AN ENEMY HAS TAKEN DOWN!\n",
      "Enemy is approaching...\n",
      "Enemies Remaining: 5\n",
      "Bullets Remaining: 4\n",
      "Stamina Remaining: 6\n"
     ]
    },
    {
     "name": "stdin",
     "output_type": "stream",
     "text": [
      "Enter your move:  reload\n"
     ]
    },
    {
     "name": "stdout",
     "output_type": "stream",
     "text": [
      "Reloading!\n",
      "Enemies Remaining: 5\n",
      "Bullets Remaining: 5\n",
      "Stamina Remaining: 6\n"
     ]
    },
    {
     "name": "stdin",
     "output_type": "stream",
     "text": [
      "Enter your move:  rest\n"
     ]
    },
    {
     "name": "stdout",
     "output_type": "stream",
     "text": [
      "I feel rested!\n",
      "Enemies Remaining: 6\n",
      "Bullets Remaining: 5\n",
      "Stamina Remaining: 7\n"
     ]
    },
    {
     "name": "stdin",
     "output_type": "stream",
     "text": [
      "Enter your move:  r\n"
     ]
    },
    {
     "name": "stdout",
     "output_type": "stream",
     "text": [
      "Enemies Remaining: 5\n",
      "Bullets Remaining: 5\n",
      "Stamina Remaining: 7\n",
      "Grenade is not ready!\n"
     ]
    },
    {
     "name": "stdin",
     "output_type": "stream",
     "text": [
      "Enter your move:  shoot\n"
     ]
    },
    {
     "name": "stdout",
     "output_type": "stream",
     "text": [
      "AN ENEMY HAS TAKEN DOWN!\n",
      "Enemy is approaching...\n",
      "Enemies Remaining: 6\n",
      "Bullets Remaining: 4\n",
      "Stamina Remaining: 6\n"
     ]
    },
    {
     "name": "stdin",
     "output_type": "stream",
     "text": [
      "Enter your move:  shoot\n"
     ]
    },
    {
     "name": "stdout",
     "output_type": "stream",
     "text": [
      "AN ENEMY HAS TAKEN DOWN!\n",
      "Enemy is approaching...\n",
      "Enemies Remaining: 5\n",
      "Bullets Remaining: 3\n",
      "Stamina Remaining: 5\n"
     ]
    },
    {
     "name": "stdin",
     "output_type": "stream",
     "text": [
      "Enter your move:  shoot\n"
     ]
    },
    {
     "name": "stdout",
     "output_type": "stream",
     "text": [
      "AN ENEMY HAS TAKEN DOWN!\n",
      "Enemy is approaching...\n",
      "Enemies Remaining: 4\n",
      "Bullets Remaining: 2\n",
      "Stamina Remaining: 4\n"
     ]
    },
    {
     "name": "stdin",
     "output_type": "stream",
     "text": [
      "Enter your move:  shoot\n"
     ]
    },
    {
     "name": "stdout",
     "output_type": "stream",
     "text": [
      "AN ENEMY HAS TAKEN DOWN!\n",
      "Enemy is approaching...\n",
      "Enemies Remaining: 3\n",
      "Bullets Remaining: 1\n",
      "Stamina Remaining: 3\n"
     ]
    },
    {
     "name": "stdin",
     "output_type": "stream",
     "text": [
      "Enter your move:  shoot\n"
     ]
    },
    {
     "name": "stdout",
     "output_type": "stream",
     "text": [
      "AN ENEMY HAS TAKEN DOWN!\n",
      "Enemy is approaching...\n",
      "Enemies Remaining: 2\n",
      "Bullets Remaining: 0\n",
      "Stamina Remaining: 2\n",
      "Reloading!\n"
     ]
    },
    {
     "name": "stdin",
     "output_type": "stream",
     "text": [
      "Enter your move:  shoot\n"
     ]
    },
    {
     "name": "stdout",
     "output_type": "stream",
     "text": [
      "AN ENEMY HAS TAKEN DOWN!\n",
      "Enemy is approaching...\n",
      "Enemies Remaining: 2\n",
      "Bullets Remaining: 4\n",
      "Stamina Remaining: 1\n",
      "Grenade is ready! Press r\n"
     ]
    },
    {
     "name": "stdin",
     "output_type": "stream",
     "text": [
      "Enter your move:  r\n"
     ]
    },
    {
     "name": "stdout",
     "output_type": "stream",
     "text": [
      "Enemies Remaining: 0\n",
      "Bullets Remaining: 4\n",
      "Stamina Remaining: 1\n",
      "Battlefield has been cleared!\n",
      "Extracting from the site...\n"
     ]
    }
   ],
   "source": [
    "print(\"Move List\")\n",
    "print(\"shoot: to kill an enemy\")\n",
    "print(\"rest: to regain some stamina\")\n",
    "print(\"reload: to refill the magazine\")\n",
    "print(\"exit: to flee from the battle\")\n",
    "      \n",
    "class Player:\n",
    "    \n",
    "    def __init__ (self, bullet, stamina):\n",
    "        self.bullet = bullet\n",
    "        self.stamina = stamina\n",
    "    \n",
    "    def bullet_counter(self):\n",
    "        print(\"Bullets Remaining: \" + str(self.bullet))\n",
    "        \n",
    "    def stamina_counter(self):\n",
    "        print(\"Stamina Remaining: \" + str(self.stamina))\n",
    "    \n",
    "    def reduce_bullet (self):\n",
    "        self.bullet -= 1\n",
    "    \n",
    "    def reload (self):\n",
    "        self.bullet = 5\n",
    "        print(\"Reloading!\")\n",
    "        \n",
    "    def reduce_stamina (self):\n",
    "        self.stamina -= 1\n",
    "        \n",
    "    def add_stamina (self):\n",
    "        self.stamina += 1\n",
    "    \n",
    "    def stamina_restoration (self):\n",
    "        self.stamina += 5\n",
    "        \n",
    "    def no_stamina (self):\n",
    "        print(\"I'm exhausted!\")\n",
    "        \n",
    "    def ultimate_ability (self):\n",
    "        print(\"Grenade is ready! Press r\")\n",
    "    \n",
    "class Enemy:\n",
    "    \n",
    "    def __init__ (self, number):\n",
    "        self.number = number\n",
    "    def hit (self):\n",
    "        print(\"AN ENEMY HAS TAKEN DOWN!\")\n",
    "    \n",
    "    def approach (self):\n",
    "        print(\"Enemy is approaching...\")\n",
    "        \n",
    "    def enemy_counter (self):\n",
    "        print(\"Enemies Remaining: \" + str(self.number))\n",
    "        \n",
    "    def enemy_add  (self):\n",
    "        self.number += 1\n",
    "        \n",
    "    def enemy_kill (self):\n",
    "        self.number -= 1\n",
    "        \n",
    "    def enemy_drawback (self):\n",
    "        self.number += 4\n",
    "        \n",
    "    def grenade_kill (self):\n",
    "        self.number -= 2\n",
    "    \n",
    "    def grenade_drawback (self):\n",
    "        self.number += 2\n",
    "        \n",
    "    \n",
    "p = Player(5, 7)\n",
    "e = Enemy(6)\n",
    "\n",
    "while True: \n",
    "    player_action = input(\"Enter your move: \")\n",
    "    \n",
    "    if player_action == \"shoot\":\n",
    "        e.hit()\n",
    "        p.reduce_stamina()\n",
    "        p.reduce_bullet()\n",
    "        e.approach()\n",
    "        e.enemy_kill()\n",
    "        e.enemy_counter()\n",
    "        p.bullet_counter()\n",
    "        p.stamina_counter()\n",
    "        if p.bullet == 0:\n",
    "            p.reload()\n",
    "            e.enemy_add()\n",
    "        elif p.stamina == 1:\n",
    "            p.ultimate_ability()\n",
    "        elif p.stamina == 0:\n",
    "            p.no_stamina()\n",
    "            p.stamina_restoration()\n",
    "            e.enemy_drawback()\n",
    "            print(\"I should rest for a bit!\")\n",
    "        elif e.number <= 0:\n",
    "            print(\"Battlefield has been cleared!\")\n",
    "            print(\"Extracting from the site...\")\n",
    "            break\n",
    "            \n",
    "    elif player_action == \"rest\":\n",
    "        print(\"I feel rested!\")\n",
    "        p.add_stamina()\n",
    "        e.enemy_counter()\n",
    "        p.bullet_counter()\n",
    "        p.stamina_counter()\n",
    "        e.enemy_add()\n",
    "     \n",
    "    elif player_action == \"reload\":\n",
    "        p.reload()\n",
    "        e.enemy_counter()\n",
    "        p.bullet_counter()\n",
    "        p.stamina_counter()\n",
    "        e.enemy_add()\n",
    "        \n",
    "    elif player_action == \"r\":\n",
    "        e.grenade_kill()\n",
    "        e.enemy_counter()\n",
    "        p.bullet_counter()\n",
    "        p.stamina_counter()\n",
    "        if e.number <= 0:\n",
    "            print(\"Battlefield has been cleared!\")\n",
    "            print(\"Extracting from the site...\")\n",
    "            break\n",
    "        elif p.stamina != 1:\n",
    "            e.grenade_drawback()\n",
    "            print(\"Grenade is not ready!\")\n",
    "\n",
    "    elif player_action == \"exit\":\n",
    "        print(\"Extracting from the site...\")\n",
    "        break"
   ]
  }
 ],
 "metadata": {
  "kernelspec": {
   "display_name": "Python 3 (ipykernel)",
   "language": "python",
   "name": "python3"
  },
  "language_info": {
   "codemirror_mode": {
    "name": "ipython",
    "version": 3
   },
   "file_extension": ".py",
   "mimetype": "text/x-python",
   "name": "python",
   "nbconvert_exporter": "python",
   "pygments_lexer": "ipython3",
   "version": "3.9.13"
  }
 },
 "nbformat": 4,
 "nbformat_minor": 5
}
